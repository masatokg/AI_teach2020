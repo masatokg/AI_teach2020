{
  "nbformat": 4,
  "nbformat_minor": 0,
  "metadata": {
    "colab": {
      "name": "and.ipynb",
      "provenance": [],
      "collapsed_sections": [],
      "authorship_tag": "ABX9TyOdT0eiYdA22PzgFSEegu9u",
      "include_colab_link": true
    },
    "kernelspec": {
      "name": "python3",
      "display_name": "Python 3"
    }
  },
  "cells": [
    {
      "cell_type": "markdown",
      "metadata": {
        "id": "view-in-github",
        "colab_type": "text"
      },
      "source": [
        "<a href=\"https://colab.research.google.com/github/masatokg/AI_teach2020/blob/master/and.ipynb\" target=\"_parent\"><img src=\"https://colab.research.google.com/assets/colab-badge.svg\" alt=\"Open In Colab\"/></a>"
      ]
    },
    {
      "cell_type": "markdown",
      "metadata": {
        "id": "JWJOQqZdqNH4"
      },
      "source": [
        "### AND演算をモデルに学ばせる（LinearSVC）"
      ]
    },
    {
      "cell_type": "code",
      "metadata": {
        "id": "hzXZS5CfqFGE"
      },
      "source": [
        "# scikit-learnを使うため、インポートする\n",
        "from sklearn.svm import LinearSVC # 線形SVCのオブジェクト\n",
        "from sklearn.metrics import accuracy_score # 結果を評価するためのオブジェクト"
      ],
      "execution_count": 1,
      "outputs": []
    },
    {
      "cell_type": "markdown",
      "metadata": {
        "id": "v3C7c3OKrUGu"
      },
      "source": [
        "### 学習のためのデータを用意する"
      ]
    },
    {
      "cell_type": "code",
      "metadata": {
        "id": "27J1xPCSqgim"
      },
      "source": [
        "# 入力値をあらわすデータ\n",
        "# 入力X, 入力Y\n",
        "learn_data = [ [0,0], [1,0], [0,1], [1,1] ]\n",
        "# （XとYのand）結果\n",
        "learn_label = [ 0, 0, 0, 1 ]\n"
      ],
      "execution_count": 2,
      "outputs": []
    },
    {
      "cell_type": "markdown",
      "metadata": {
        "id": "qo3d4osxs49f"
      },
      "source": [
        "### アルゴリズムのインスタンスを生成"
      ]
    },
    {
      "cell_type": "code",
      "metadata": {
        "id": "A4_uSsrirhm6"
      },
      "source": [
        "### 線形SVCのインスタンスを生成（ = モデル）\n",
        "clf = LinearSVC()"
      ],
      "execution_count": 3,
      "outputs": []
    },
    {
      "cell_type": "markdown",
      "metadata": {
        "id": "5dK0uBzptQT2"
      },
      "source": [
        "### モデルに学習させる（fitメソッド）"
      ]
    },
    {
      "cell_type": "code",
      "metadata": {
        "id": "UaSr23MltLyx",
        "outputId": "1e3afbce-53bf-44db-e0c6-d2e70cd9d951",
        "colab": {
          "base_uri": "https://localhost:8080/",
          "height": 89
        }
      },
      "source": [
        "clf.fit( learn_data, learn_label)"
      ],
      "execution_count": 4,
      "outputs": [
        {
          "output_type": "execute_result",
          "data": {
            "text/plain": [
              "LinearSVC(C=1.0, class_weight=None, dual=True, fit_intercept=True,\n",
              "          intercept_scaling=1, loss='squared_hinge', max_iter=1000,\n",
              "          multi_class='ovr', penalty='l2', random_state=None, tol=0.0001,\n",
              "          verbose=0)"
            ]
          },
          "metadata": {
            "tags": []
          },
          "execution_count": 4
        }
      ]
    },
    {
      "cell_type": "markdown",
      "metadata": {
        "id": "VY77dyowuQHr"
      },
      "source": [
        "### モデルがちゃんと学習できたか、テストデータで、予測させてみる"
      ]
    },
    {
      "cell_type": "code",
      "metadata": {
        "id": "fMuxQ9mtt2Ef",
        "outputId": "481f54ac-a638-403d-8919-fd53c502e315",
        "colab": {
          "base_uri": "https://localhost:8080/",
          "height": 71
        }
      },
      "source": [
        "# 予測用のテストデータ(検証データ)を作る\n",
        "test_data = [ [0,0], [1,0], [0,1], [1,1] ]\n",
        "# モデルにテストデータを回答させる（予測） 予測のメソッドはpredict\n",
        "test_label = clf.predict( test_data )\n",
        "print(test_label)\n",
        "# 予測結果の評価\n",
        "print(test_data, \"の予測結果\", test_label)\n",
        "# 結果の精度を表示させる\n",
        "print(\"正解率 = \", accuracy_score([0,0,0,1], test_label))"
      ],
      "execution_count": 5,
      "outputs": [
        {
          "output_type": "stream",
          "text": [
            "[0 0 0 1]\n",
            "[[0, 0], [1, 0], [0, 1], [1, 1]] の予測結果 [0 0 0 1]\n",
            "正解率 =  1.0\n"
          ],
          "name": "stdout"
        }
      ]
    },
    {
      "cell_type": "markdown",
      "metadata": {
        "id": "O4FtcGgMwHmm"
      },
      "source": [
        "### XOR演算を実装する"
      ]
    },
    {
      "cell_type": "code",
      "metadata": {
        "id": "Bhupri8Yu9sm"
      },
      "source": [
        "# XOR演算を学習するためのデータを用意する\n",
        "# X, Y の順\n",
        "learn_data = [ [0,0], [1,0], [0,1], [1,1] ]\n",
        "# X xor Y の結果正解データ（学習ラベル）\n",
        "learn_label = [ 0, 1, 1, 0 ]"
      ],
      "execution_count": 6,
      "outputs": []
    },
    {
      "cell_type": "code",
      "metadata": {
        "id": "Yc98mQPWxM_V",
        "outputId": "a779f16c-985b-4a7d-dbb9-6c21eb311abd",
        "colab": {
          "base_uri": "https://localhost:8080/",
          "height": 87
        }
      },
      "source": [
        "# 学習モデルのインスタンスを作る（LinearSVC）\n",
        "clf = LinearSVC()\n",
        "# 学習させる\n",
        "clf.fit(learn_data, learn_label)"
      ],
      "execution_count": 7,
      "outputs": [
        {
          "output_type": "execute_result",
          "data": {
            "text/plain": [
              "LinearSVC(C=1.0, class_weight=None, dual=True, fit_intercept=True,\n",
              "          intercept_scaling=1, loss='squared_hinge', max_iter=1000,\n",
              "          multi_class='ovr', penalty='l2', random_state=None, tol=0.0001,\n",
              "          verbose=0)"
            ]
          },
          "metadata": {
            "tags": []
          },
          "execution_count": 7
        }
      ]
    },
    {
      "cell_type": "code",
      "metadata": {
        "id": "jhJDiFtjxU4f"
      },
      "source": [
        "# 学習モデルに推論させる\n",
        "test_data =  [ [0,0], [1,0], [0,1], [1,1] ]\n",
        "test_label = clf.predict(test_data)"
      ],
      "execution_count": 8,
      "outputs": []
    },
    {
      "cell_type": "code",
      "metadata": {
        "id": "wWzLirFHyO-y",
        "outputId": "c966fc24-077e-4a64-e687-ea1d323c7787",
        "colab": {
          "base_uri": "https://localhost:8080/",
          "height": 52
        }
      },
      "source": [
        "# 結果を検証する\n",
        "print(test_data, \"の予測結果\", test_label)\n",
        "print(\"正解率 = \" , accuracy_score([ 0, 1, 1, 0 ], test_label))"
      ],
      "execution_count": 9,
      "outputs": [
        {
          "output_type": "stream",
          "text": [
            "[[0, 0], [1, 0], [0, 1], [1, 1]] の予測結果 [0 0 0 0]\n",
            "正解率 =  0.5\n"
          ],
          "name": "stdout"
        }
      ]
    },
    {
      "cell_type": "markdown",
      "metadata": {
        "id": "Brnt--m3ZR0M"
      },
      "source": [
        "## K近傍法でXOR演算を実装する"
      ]
    },
    {
      "cell_type": "code",
      "metadata": {
        "id": "imXBThQiyp7j"
      },
      "source": [
        "# K近傍法のアルゴリズムのクラスをimport\n",
        "from sklearn.neighbors import KNeighborsClassifier\n"
      ],
      "execution_count": 11,
      "outputs": []
    },
    {
      "cell_type": "code",
      "metadata": {
        "id": "APaCaoGTZ93r"
      },
      "source": [
        "# 学習モデルの変数clfをK近傍法アルゴリズムのインスタンスで上書き\n",
        "clf = KNeighborsClassifier(n_neighbors=1)\n"
      ],
      "execution_count": 12,
      "outputs": []
    },
    {
      "cell_type": "code",
      "metadata": {
        "id": "84mw3hu0ahuK",
        "outputId": "9363511e-b054-41e4-d639-6f15547f63a8",
        "colab": {
          "base_uri": "https://localhost:8080/",
          "height": 70
        }
      },
      "source": [
        "# 学習用入力データ(learn_data)と結果用正解データ(learn_label)を使って学習\n",
        "clf.fit(learn_data, learn_label)"
      ],
      "execution_count": 13,
      "outputs": [
        {
          "output_type": "execute_result",
          "data": {
            "text/plain": [
              "KNeighborsClassifier(algorithm='auto', leaf_size=30, metric='minkowski',\n",
              "                     metric_params=None, n_jobs=None, n_neighbors=1, p=2,\n",
              "                     weights='uniform')"
            ]
          },
          "metadata": {
            "tags": []
          },
          "execution_count": 13
        }
      ]
    },
    {
      "cell_type": "markdown",
      "metadata": {
        "id": "VZmRhzAwbU4W"
      },
      "source": [
        "### テスト検証用データで推論をする"
      ]
    },
    {
      "cell_type": "code",
      "metadata": {
        "id": "M2EqjcEobEx7",
        "outputId": "b07b21b9-0365-4e26-d4da-afb00953d714",
        "colab": {
          "base_uri": "https://localhost:8080/",
          "height": 52
        }
      },
      "source": [
        "# テスト検証用データ(test_data)と答え合わせ用の正解データ([0,1,1,0])\n",
        "test_label = clf.predict(test_data)\n",
        "\n",
        "# 推論結果の評価\n",
        "print(test_data, \"の予測（推論）結果\", test_label)\n",
        "print(\"正解率 = \", accuracy_score( [0,1,1,0], test_label ))"
      ],
      "execution_count": 16,
      "outputs": [
        {
          "output_type": "stream",
          "text": [
            "[[0, 0], [1, 0], [0, 1], [1, 1]] の予測（推論）結果 [0 1 1 0]\n",
            "正解率 =  1.0\n"
          ],
          "name": "stdout"
        }
      ]
    },
    {
      "cell_type": "code",
      "metadata": {
        "id": "XyDmBFXccC35"
      },
      "source": [
        ""
      ],
      "execution_count": null,
      "outputs": []
    }
  ]
}