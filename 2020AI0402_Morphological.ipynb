{
  "nbformat": 4,
  "nbformat_minor": 0,
  "metadata": {
    "colab": {
      "name": "2020AI0402-Morphological.ipynb",
      "provenance": [],
      "authorship_tag": "ABX9TyMBDVbwPPLJ8vLDiB7w8c72",
      "include_colab_link": true
    },
    "kernelspec": {
      "name": "python3",
      "display_name": "Python 3"
    }
  },
  "cells": [
    {
      "cell_type": "markdown",
      "metadata": {
        "id": "view-in-github",
        "colab_type": "text"
      },
      "source": [
        "<a href=\"https://colab.research.google.com/github/masatokg/AI_teach2020/blob/master/2020AI0402_Morphological.ipynb\" target=\"_parent\"><img src=\"https://colab.research.google.com/assets/colab-badge.svg\" alt=\"Open In Colab\"/></a>"
      ]
    },
    {
      "cell_type": "markdown",
      "metadata": {
        "id": "XfynF7gGYOHa"
      },
      "source": [
        "## 形態素解析（MorphologicalAnalysis）"
      ]
    },
    {
      "cell_type": "markdown",
      "metadata": {
        "id": "qkCabWI6YX-K"
      },
      "source": [
        "### 形態素解析ライブラリMeCabのインストール"
      ]
    },
    {
      "cell_type": "code",
      "metadata": {
        "id": "ZlCdfNzQXY-w"
      },
      "source": [
        "# 形態素解析ライブラリMeCabと辞書（meCab-ipadic-NEologd）のインストール\r\n",
        "!apt-get -q -y install sudo file mecab libmecab-dev mecab-ipadic-utf8 git curl python-mecab > /dev/null\r\n",
        "!pip install mecab-python3 > /dev/null\r\n",
        "\r\n",
        "# MeCabの実行時の指定パスをインストールパスにリンクさせる\r\n",
        "# シンボリックリンク（/etc/mecabrc を /usr/local/etc/mecabrc で参照できるようにする）\r\n",
        "!ln -s /etc/mecabrc /usr/local/etc/mecabrc"
      ],
      "execution_count": null,
      "outputs": []
    },
    {
      "cell_type": "markdown",
      "metadata": {
        "id": "ozTNolHJZ14s"
      },
      "source": [
        "### まずMeCabのデフォルト辞書で文章を解析する"
      ]
    },
    {
      "cell_type": "code",
      "metadata": {
        "colab": {
          "base_uri": "https://localhost:8080/"
        },
        "id": "ZuDETUdMZAcT",
        "outputId": "69c8c6ff-fb6f-4bb7-8987-1f685c3c8cf4"
      },
      "source": [
        "# インストールしたMeCabをimport\r\n",
        "import MeCab\r\n",
        "# MeCabオブジェクトの生成（デフォルト辞書で）\r\n",
        "tagger = MeCab.Tagger()\r\n",
        "# 形態素解析を実行させる\r\n",
        "result = tagger.parse(\"メイが恋ダンスを踊っている。\")\r\n",
        "# 解析結果を表示\r\n",
        "print( result )"
      ],
      "execution_count": null,
      "outputs": [
        {
          "output_type": "stream",
          "text": [
            "メイ\t名詞,一般,*,*,*,*,*\n",
            "が\t助詞,格助詞,一般,*,*,*,が,ガ,ガ\n",
            "恋\t名詞,一般,*,*,*,*,恋,コイ,コイ\n",
            "ダンス\t名詞,サ変接続,*,*,*,*,ダンス,ダンス,ダンス\n",
            "を\t助詞,格助詞,一般,*,*,*,を,ヲ,ヲ\n",
            "踊っ\t動詞,自立,*,*,五段・ラ行,連用タ接続,踊る,オドッ,オドッ\n",
            "て\t助詞,接続助詞,*,*,*,*,て,テ,テ\n",
            "いる\t動詞,非自立,*,*,一段,基本形,いる,イル,イル\n",
            "。\t記号,句点,*,*,*,*,。,。,。\n",
            "EOS\n",
            "\n"
          ],
          "name": "stdout"
        }
      ]
    },
    {
      "cell_type": "markdown",
      "metadata": {
        "id": "OT9TKjloawlW"
      },
      "source": [
        "### 最新の情報が入った辞書（ipadic-neologd）で形態素解析してみる"
      ]
    },
    {
      "cell_type": "code",
      "metadata": {
        "colab": {
          "base_uri": "https://localhost:8080/"
        },
        "id": "eznnFi0Kaf7f",
        "outputId": "c5fb8e0f-3ae2-4f91-b3c5-1cbe3d0cfbcf"
      },
      "source": [
        "# github上からipadic-neologdの最新版をダウンロード\r\n",
        "! git clone --depth 1 https://github.com/neologd/mecab-ipadic-neologd.git > /dev/null\r\n",
        "# ipadic-neologd のインストール\r\n",
        "!echo yes | mecab-ipadic-neologd/bin/install-mecab-ipadic-neologd -n > /dev/null 2>&1"
      ],
      "execution_count": null,
      "outputs": [
        {
          "output_type": "stream",
          "text": [
            "Cloning into 'mecab-ipadic-neologd'...\n",
            "remote: Enumerating objects: 75, done.\u001b[K\n",
            "remote: Counting objects: 100% (75/75), done.\u001b[K\n",
            "remote: Compressing objects: 100% (74/74), done.\u001b[K\n",
            "remote: Total 75 (delta 5), reused 54 (delta 0), pack-reused 0\u001b[K\n",
            "Unpacking objects: 100% (75/75), done.\n"
          ],
          "name": "stdout"
        }
      ]
    },
    {
      "cell_type": "markdown",
      "metadata": {
        "id": "oBwIwMP7b48F"
      },
      "source": [
        "### 辞書のインストール済みディレクトリを表示確認"
      ]
    },
    {
      "cell_type": "code",
      "metadata": {
        "colab": {
          "base_uri": "https://localhost:8080/"
        },
        "id": "pv3G-k9LbodQ",
        "outputId": "7b60243c-978c-4847-cef2-da480554e53a"
      },
      "source": [
        "# 辞書のインストール済みディレクトリの場所を表示\r\n",
        "!echo `mecab-config --dicdir`\"/mecab-ipadic-neologd\""
      ],
      "execution_count": null,
      "outputs": [
        {
          "output_type": "stream",
          "text": [
            "/usr/lib/x86_64-linux-gnu/mecab/dic/mecab-ipadic-neologd\n"
          ],
          "name": "stdout"
        }
      ]
    },
    {
      "cell_type": "markdown",
      "metadata": {
        "id": "L8kB3dc9cYnk"
      },
      "source": [
        "### 辞書（ipadic-neologd）の場所を指定してMeCabで形態素解析"
      ]
    },
    {
      "cell_type": "code",
      "metadata": {
        "colab": {
          "base_uri": "https://localhost:8080/"
        },
        "id": "YwDnOsRScPJi",
        "outputId": "df79497b-e702-418a-bbe2-e79ab86ddc77"
      },
      "source": [
        "import MeCab\r\n",
        "# mecab-ipadic-NEologd辞書を指定して、MeCabオブジェクトの生成\r\n",
        "path_neologd = \"/usr/lib/x86_64-linux-gnu/mecab/dic/mecab-ipadic-neologd\"\r\n",
        "tagger = MeCab.Tagger( \"-d \" + path_neologd )\r\n",
        "# オブジェクトインスタンスで形態素解析を行う\r\n",
        "result = tagger.parse( \"メイが恋ダンスを踊っている。\" )\r\n",
        "print( result )"
      ],
      "execution_count": null,
      "outputs": [
        {
          "output_type": "stream",
          "text": [
            "メイ\t名詞,固有名詞,人名,一般,*,*,M.A.Y,メイ,メイ\n",
            "が\t助詞,格助詞,一般,*,*,*,が,ガ,ガ\n",
            "恋ダンス\t名詞,固有名詞,一般,*,*,*,恋ダンス,コイダンス,コイダンス\n",
            "を\t助詞,格助詞,一般,*,*,*,を,ヲ,ヲ\n",
            "踊っ\t動詞,自立,*,*,五段・ラ行,連用タ接続,踊る,オドッ,オドッ\n",
            "て\t助詞,接続助詞,*,*,*,*,て,テ,テ\n",
            "いる\t動詞,非自立,*,*,一段,基本形,いる,イル,イル\n",
            "。\t記号,句点,*,*,*,*,。,。,。\n",
            "EOS\n",
            "\n"
          ],
          "name": "stdout"
        }
      ]
    },
    {
      "cell_type": "markdown",
      "metadata": {
        "id": "5cN8CuM4eC1V"
      },
      "source": [
        "### 形態素解析結果を品詞分析して名詞、動詞、形容詞だけを抜き出すことでストップワードを除外する"
      ]
    },
    {
      "cell_type": "code",
      "metadata": {
        "colab": {
          "base_uri": "https://localhost:8080/"
        },
        "id": "BP-JXQoNdLiU",
        "outputId": "50ec145d-c7cf-4c66-defe-127f9215fa14"
      },
      "source": [
        "import MeCab\r\n",
        "# mecab-ipadic-NEologd辞書を指定して、MeCabオブジェクトの生成\r\n",
        "path_neologd = \"/usr/lib/x86_64-linux-gnu/mecab/dic/mecab-ipadic-neologd\"\r\n",
        "tagger = MeCab.Tagger( \"-d\" + path_neologd )\r\n",
        "# 形態素解析して、結果（リスト）を取得\r\n",
        "node = tagger.parseToNode(\"メイが恋ダンスを踊っている。\")\r\n",
        "print( node )\r\n",
        "\r\n",
        "result = [] # 抽出結果を登録する配列\r\n",
        "# リストのリンクNextがNoneになるまでループ処理\r\n",
        "while node is not None:\r\n",
        "  # 品詞情報取得 node詳細の先頭（品詞情報）だけを抜き出す\r\n",
        "  hinshi = node.feature.split(\",\")[0]\r\n",
        "  if hinshi in [\"名詞\"]:\r\n",
        "    # 名詞だったら、表層系を結果配列 result に追加\r\n",
        "    result.append( node.surface )\r\n",
        "  elif hinshi in [\"動詞\", \"形容詞\"]:\r\n",
        "    # 動詞、形容詞だったら、node形態素情報から原形情報(index6番目)をresult配列に追加\r\n",
        "    result.append( node.feature.split(\",\")[6] )\r\n",
        "  # if/elif文終わり\r\n",
        "  node = node.next\r\n",
        "# whileループ終わり\r\n",
        "print( result )"
      ],
      "execution_count": null,
      "outputs": [
        {
          "output_type": "stream",
          "text": [
            "<Swig Object of type 'MeCab::Node *' at 0x7fdc6a4f6ce0>\n",
            "['メイ', '恋ダンス', '踊る', 'いる']\n"
          ],
          "name": "stdout"
        }
      ]
    },
    {
      "cell_type": "code",
      "metadata": {
        "id": "V9BWyIIggsKW"
      },
      "source": [
        ""
      ],
      "execution_count": null,
      "outputs": []
    }
  ]
}