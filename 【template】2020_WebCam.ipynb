{
  "nbformat": 4,
  "nbformat_minor": 0,
  "metadata": {
    "colab": {
      "name": "【template】2020-WebCam.ipynb",
      "provenance": [],
      "collapsed_sections": [
        "I624sxQQyHLM"
      ],
      "authorship_tag": "ABX9TyNnVTFo2utyk+8rc4dxdxpk",
      "include_colab_link": true
    },
    "kernelspec": {
      "name": "python3",
      "display_name": "Python 3"
    }
  },
  "cells": [
    {
      "cell_type": "markdown",
      "metadata": {
        "id": "view-in-github",
        "colab_type": "text"
      },
      "source": [
        "<a href=\"https://colab.research.google.com/github/masatokg/AI_teach2020/blob/master/%E3%80%90template%E3%80%912020_WebCam.ipynb\" target=\"_parent\"><img src=\"https://colab.research.google.com/assets/colab-badge.svg\" alt=\"Open In Colab\"/></a>"
      ]
    },
    {
      "cell_type": "markdown",
      "metadata": {
        "id": "NeFb2nSLx5DU"
      },
      "source": [
        "## GoogleColabでOpenCV＆webCamera\n",
        "### GoogleColab上でWebCameraとOpenCVを連携させたい時にどうぞ\n",
        "### 書き換えた時はランタイムを初期化しないとブラウザに前のキャッシュが残っている可能性あります"
      ]
    },
    {
      "cell_type": "markdown",
      "metadata": {
        "id": "I624sxQQyHLM"
      },
      "source": [
        "### Cell01"
      ]
    },
    {
      "cell_type": "code",
      "metadata": {
        "id": "CgMifibjyLU9"
      },
      "source": [
        "from IPython.display import display, Javascript\n",
        "# GoogleのPythonからのJavaScript呼び出しライブラリ\n",
        "from google.colab.output import eval_js \n",
        "\n",
        "# メイン処理関数\n",
        "def use_cam(quality=0.8):\n",
        "  js = Javascript('''\n",
        "    async function useCam(quality) {\n",
        "      const div = document.createElement('div');\n",
        "      document.body.appendChild(div);\n",
        "      //video element\n",
        "      const video = document.createElement('video');\n",
        "      video.style.display = 'None';\n",
        "\n",
        "      let media_array = [];\n",
        "      let i = 0;\n",
        "\n",
        "      // 【masatokg】mediaDeciveの情報をページに表示（デバッグ用）\n",
        "      /*\n",
        "      navigator.mediaDevices.enumerateDevices()\n",
        "        .then(devices => {\n",
        "          mediaDeviceInfo = devices;\n",
        "          var h = document.createElement(\"H1\");\n",
        "          document.body.appendChild(h);\n",
        "          for( device of devices){\n",
        "            media_array[i] = device['deviceId'];\n",
        "            var t = document.createTextNode(\" device_no:\"+i + JSON.stringify(device) + \"media_array \"+i +\": \"+ media_array[i]);\n",
        "            h.appendChild(t);\n",
        "            i++;\n",
        "          }\n",
        "        });\n",
        "      */\n",
        "\n",
        "      const stream = await navigator.mediaDevices.getUserMedia({video:true} );\n",
        "      // deviceIdを決め打ちする場合、以下のようにする\n",
        "      // const stream = await navigator.mediaDevices.getUserMedia({video: { deviceId: \"cf908ea160fd9ca5735e336884408515744c0dc7311fd02b33056ac9ae581a31\" },} );\n",
        "\n",
        "      // オリジナル画面を映すビデオ要素を画面に追加\n",
        "      div.appendChild(video);\n",
        "      video.srcObject = stream;\n",
        "      await video.play();\n",
        "\n",
        "      //canvas for display. frame rate is depending on display size and jpeg quality.\n",
        "      // display_size = 640 // original\n",
        "      display_size = 320 // 小さめにしました\n",
        "      const src_canvas = document.createElement('canvas');\n",
        "      src_canvas.width  = display_size;\n",
        "      src_canvas.height = display_size * video.videoHeight / video.videoWidth;\n",
        "      const src_canvasCtx = src_canvas.getContext('2d');\n",
        "      src_canvasCtx.translate(src_canvas.width, 0);\n",
        "      src_canvasCtx.scale(-1, 1);\n",
        "      div.appendChild(src_canvas);\n",
        "\n",
        "      // cvの画面を映すキャンバス要素を画面に追加\n",
        "      const dst_canvas = document.createElement('canvas');\n",
        "      dst_canvas.width  = src_canvas.width;\n",
        "      dst_canvas.height = src_canvas.height;\n",
        "      const dst_canvasCtx = dst_canvas.getContext('2d');\n",
        "      div.appendChild(dst_canvas);\n",
        "\n",
        "      //exit button 描画中止ボタン\n",
        "      const btn_div = document.createElement('div');\n",
        "      document.body.appendChild(btn_div);\n",
        "      const exit_btn = document.createElement('button');\n",
        "      exit_btn.textContent = 'Camera Stop';\n",
        "      var exit_flg = true\n",
        "      exit_btn.onclick = function() {exit_flg = false};\n",
        "      btn_div.appendChild(exit_btn);\n",
        "\n",
        "      // Resize the output to fit the video element.\n",
        "      google.colab.output.setIframeHeight(document.documentElement.scrollHeight, true);\n",
        "\n",
        "      var send_num = 0\n",
        "      // loop\n",
        "      _canvasUpdate();\n",
        "      async function _canvasUpdate() {\n",
        "            // 【masatokg】元映像のCanvasにVideoオブジェクトのStreamを描画\n",
        "            src_canvasCtx.drawImage(video, 0, 0, video.videoWidth, video.videoHeight, 0, 0, src_canvas.width, src_canvas.height);     \n",
        "            if (send_num<1){\n",
        "                send_num += 1\n",
        "                // 【masatokg】Canvasの描画イメージを取得\n",
        "                const img = src_canvas.toDataURL('image/jpeg', quality);\n",
        "                /* 【masatokg】GoogleColabに登録した自作のPythonCallback 'notebook.run' をJavaScriptから呼び出す(引数は画像のBase64)\n",
        "                 https://github.com/googlecolab/colabtools/issues/6\n",
        "                 https://github.com/googlecolab/colabtools/blob/master/google/colab/output/_js.py#L45\n",
        "                 */\n",
        "                const result = google.colab.kernel.invokeFunction('notebook.run', [img], {});\n",
        "                // 【masatokg】Callback の戻値（画像加工済のBase64）を匿名関数に引き渡す\n",
        "                result.then(function(value) {\n",
        "                    // 【masatokg】JSONオブジェクトを解析して画像Base64をイメージソースに指定してcv画像のCanvasに描画\n",
        "                    parse = JSON.parse(JSON.stringify(value))[\"data\"]\n",
        "                    parse = JSON.parse(JSON.stringify(parse))[\"application/json\"]\n",
        "                    parse = JSON.parse(JSON.stringify(parse))[\"img_str\"]\n",
        "                    var image = new Image()\n",
        "                    image.src = parse;\n",
        "                    image.onload = function(){dst_canvasCtx.drawImage(image, 0, 0)}\n",
        "                    send_num -= 1\n",
        "                })\n",
        "            }\n",
        "            if (exit_flg){\n",
        "                requestAnimationFrame(_canvasUpdate);   \n",
        "            }else{\n",
        "                stream.getVideoTracks()[0].stop();\n",
        "            }\n",
        "      };\n",
        "    }\n",
        "    ''')\n",
        "  # JavaScriptを画面HTMLに読込表示\n",
        "  display(js) \n",
        "  # PythonからJavaScript関数(useCam)をeval_jsで実行\n",
        "  data = eval_js('useCam({})'.format(quality))\n",
        "# use_cam定義完了"
      ],
      "execution_count": null,
      "outputs": []
    },
    {
      "cell_type": "markdown",
      "metadata": {
        "id": "Mzb4hY2gkKBo"
      },
      "source": [
        "### Cell02\n",
        "Python側のメイン処理（use_cam）から呼び出す todo処理\n",
        "ここをやりたいことに応じて変化させる\n",
        "コールバック関数（毎回呼び出される関数）をセットする前に1回だけやりたい処理をこのタイミングでやっておく部分"
      ]
    },
    {
      "cell_type": "code",
      "metadata": {
        "id": "egX2XC5J4qBe"
      },
      "source": [
        "import cv2\n"
      ],
      "execution_count": null,
      "outputs": []
    },
    {
      "cell_type": "markdown",
      "metadata": {
        "id": "QzzqjrDs6j2u"
      },
      "source": [
        "### Cell03 \n",
        "Python側のメイン処理（use_cam）から呼び出す todo処理\n",
        "ここをやりたいことに応じて変化させる\n",
        "コールバック関数で毎回呼び出されて処理する部分"
      ]
    },
    {
      "cell_type": "code",
      "metadata": {
        "id": "mc6LaQIQkXvi"
      },
      "source": [
        "def doDef(decimg):\n",
        "\n",
        "\n",
        "  #【masatokg】好きなPython処理を記述する。\n",
        "  #############your process###############\n",
        "\n",
        "  out_img = decimg\n",
        "\n",
        "  #############your process###############\n",
        "  return out_img  # 画像をかえす\n",
        "# 関数定義終了\n"
      ],
      "execution_count": null,
      "outputs": []
    },
    {
      "cell_type": "markdown",
      "metadata": {
        "id": "_qmz65E6yEsd"
      },
      "source": [
        "### Cell04 Python側のメイン処理（use_cam）定義部分"
      ]
    },
    {
      "cell_type": "code",
      "metadata": {
        "id": "7wcsP5Z0xtiL"
      },
      "source": [
        "import IPython\n",
        "from google.colab import output\n",
        "from google.colab.patches import cv2_imshow # incompatible with Jupyter notebook\n",
        "import cv2\n",
        "import numpy as np\n",
        "from PIL import Image, ImageDraw\n",
        "from io import BytesIO\n",
        "import base64\n",
        "\n",
        "# JavaScript から呼び出すためのコールバック関数を定義（引数は画像のBase64）\n",
        "def run(img_str):\n",
        "    #decode to image 【masatokg】base64を解析してイメージに変換\n",
        "    decimg = base64.b64decode(img_str.split(',')[1], validate=True)\n",
        "    decimg = Image.open(BytesIO(decimg))\n",
        "    decimg = np.array(decimg, dtype=np.uint8); \n",
        "    decimg = cv2.cvtColor(decimg, cv2.COLOR_BGR2RGB)\n",
        "\n",
        "    # ここから下を関数（doDef）化 \n",
        "    # 元画像を引き渡してPython処理後、加工画像を受け取る\n",
        "    out_img = doDef(decimg)\n",
        "\n",
        "    #encode to string\n",
        "    _, encimg = cv2.imencode(\".jpg\", out_img, [int(cv2.IMWRITE_JPEG_QUALITY), 80])\n",
        "    img_str = encimg.tostring()\n",
        "    img_str = \"data:image/jpeg;base64,\" + base64.b64encode(img_str).decode('utf-8')\n",
        "    # 加工後の画像をbase64でコールバックの戻り値とする\n",
        "    return IPython.display.JSON({'img_str': img_str})\n",
        "# 関数 run の定義完了\n",
        "\n",
        "# 自作した関数 run をcall back名 'notebook.run' でPythonに登録（画面のJavaScriptから呼び出すつもり）\n",
        "output.register_callback('notebook.run', run)"
      ],
      "execution_count": null,
      "outputs": []
    },
    {
      "cell_type": "markdown",
      "metadata": {
        "id": "ibeJWvQnyUqi"
      },
      "source": [
        "### Cell05 Pythonの実行関数呼び出しでJavaScriptでHTML組み立て＆表示を実行"
      ]
    },
    {
      "cell_type": "code",
      "metadata": {
        "id": "xEIzMPxQyZ8y",
        "colab": {
          "base_uri": "https://localhost:8080/",
          "height": 222
        },
        "outputId": "10182f6a-c412-45a2-b984-1bbb81280dfa"
      },
      "source": [
        "use_cam()"
      ],
      "execution_count": null,
      "outputs": [
        {
          "output_type": "display_data",
          "data": {
            "application/javascript": [
              "\n",
              "    async function useCam(quality) {\n",
              "      const div = document.createElement('div');\n",
              "      document.body.appendChild(div);\n",
              "      //video element\n",
              "      const video = document.createElement('video');\n",
              "      video.style.display = 'None';\n",
              "\n",
              "      let media_array = [];\n",
              "      let i = 0;\n",
              "\n",
              "      // 【masatokg】mediaDeciveの情報をページに表示（デバッグ用）\n",
              "      /*\n",
              "      navigator.mediaDevices.enumerateDevices()\n",
              "        .then(devices => {\n",
              "          mediaDeviceInfo = devices;\n",
              "          var h = document.createElement(\"H1\");\n",
              "          document.body.appendChild(h);\n",
              "          for( device of devices){\n",
              "            media_array[i] = device['deviceId'];\n",
              "            var t = document.createTextNode(\" device_no:\"+i + JSON.stringify(device) + \"media_array \"+i +\": \"+ media_array[i]);\n",
              "            h.appendChild(t);\n",
              "            i++;\n",
              "          }\n",
              "        });\n",
              "      */\n",
              "\n",
              "      const stream = await navigator.mediaDevices.getUserMedia({video:true} );\n",
              "      // deviceIdを決め打ちする場合、以下のようにする\n",
              "      // const stream = await navigator.mediaDevices.getUserMedia({video: { deviceId: \"cf908ea160fd9ca5735e336884408515744c0dc7311fd02b33056ac9ae581a31\" },} );\n",
              "\n",
              "      // オリジナル画面を映すビデオ要素を画面に追加\n",
              "      div.appendChild(video);\n",
              "      video.srcObject = stream;\n",
              "      await video.play();\n",
              "\n",
              "      //canvas for display. frame rate is depending on display size and jpeg quality.\n",
              "      // display_size = 640 // original\n",
              "      display_size = 320 // 小さめにしました\n",
              "      const src_canvas = document.createElement('canvas');\n",
              "      src_canvas.width  = display_size;\n",
              "      src_canvas.height = display_size * video.videoHeight / video.videoWidth;\n",
              "      const src_canvasCtx = src_canvas.getContext('2d');\n",
              "      src_canvasCtx.translate(src_canvas.width, 0);\n",
              "      src_canvasCtx.scale(-1, 1);\n",
              "      div.appendChild(src_canvas);\n",
              "\n",
              "      // cvの画面を映すキャンバス要素を画面に追加\n",
              "      const dst_canvas = document.createElement('canvas');\n",
              "      dst_canvas.width  = src_canvas.width;\n",
              "      dst_canvas.height = src_canvas.height;\n",
              "      const dst_canvasCtx = dst_canvas.getContext('2d');\n",
              "      div.appendChild(dst_canvas);\n",
              "\n",
              "      //exit button 描画中止ボタン\n",
              "      const btn_div = document.createElement('div');\n",
              "      document.body.appendChild(btn_div);\n",
              "      const exit_btn = document.createElement('button');\n",
              "      exit_btn.textContent = 'Camera Stop';\n",
              "      var exit_flg = true\n",
              "      exit_btn.onclick = function() {exit_flg = false};\n",
              "      btn_div.appendChild(exit_btn);\n",
              "\n",
              "      // Resize the output to fit the video element.\n",
              "      google.colab.output.setIframeHeight(document.documentElement.scrollHeight, true);\n",
              "\n",
              "      var send_num = 0\n",
              "      // loop\n",
              "      _canvasUpdate();\n",
              "      async function _canvasUpdate() {\n",
              "            // 【masatokg】元映像のCanvasにVideoオブジェクトのStreamを描画\n",
              "            src_canvasCtx.drawImage(video, 0, 0, video.videoWidth, video.videoHeight, 0, 0, src_canvas.width, src_canvas.height);     \n",
              "            if (send_num<1){\n",
              "                send_num += 1\n",
              "                // 【masatokg】Canvasの描画イメージを取得\n",
              "                const img = src_canvas.toDataURL('image/jpeg', quality);\n",
              "                /* 【masatokg】GoogleColabに登録した自作のPythonCallback 'notebook.run' をJavaScriptから呼び出す(引数は画像のBase64)\n",
              "                 https://github.com/googlecolab/colabtools/issues/6\n",
              "                 https://github.com/googlecolab/colabtools/blob/master/google/colab/output/_js.py#L45\n",
              "                 */\n",
              "                const result = google.colab.kernel.invokeFunction('notebook.run', [img], {});\n",
              "                // 【masatokg】Callback の戻値（画像加工済のBase64）を匿名関数に引き渡す\n",
              "                result.then(function(value) {\n",
              "                    // 【masatokg】JSONオブジェクトを解析して画像Base64をイメージソースに指定してcv画像のCanvasに描画\n",
              "                    parse = JSON.parse(JSON.stringify(value))[\"data\"]\n",
              "                    parse = JSON.parse(JSON.stringify(parse))[\"application/json\"]\n",
              "                    parse = JSON.parse(JSON.stringify(parse))[\"img_str\"]\n",
              "                    var image = new Image()\n",
              "                    image.src = parse;\n",
              "                    image.onload = function(){dst_canvasCtx.drawImage(image, 0, 0)}\n",
              "                    send_num -= 1\n",
              "                })\n",
              "            }\n",
              "            if (exit_flg){\n",
              "                requestAnimationFrame(_canvasUpdate);   \n",
              "            }else{\n",
              "                stream.getVideoTracks()[0].stop();\n",
              "            }\n",
              "      };\n",
              "    }\n",
              "    "
            ],
            "text/plain": [
              "<IPython.core.display.Javascript object>"
            ]
          },
          "metadata": {
            "tags": []
          }
        }
      ]
    }
  ]
}