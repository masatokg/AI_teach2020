{
  "nbformat": 4,
  "nbformat_minor": 0,
  "metadata": {
    "colab": {
      "name": "2020AI0401-lang-character.ipynb",
      "provenance": [],
      "collapsed_sections": [],
      "authorship_tag": "ABX9TyNS9F1xYaTtpUOjss9xr2XH",
      "include_colab_link": true
    },
    "kernelspec": {
      "name": "python3",
      "display_name": "Python 3"
    }
  },
  "cells": [
    {
      "cell_type": "markdown",
      "metadata": {
        "id": "view-in-github",
        "colab_type": "text"
      },
      "source": [
        "<a href=\"https://colab.research.google.com/github/masatokg/AI_teach2020/blob/master/2020AI0401_lang_character.ipynb\" target=\"_parent\"><img src=\"https://colab.research.google.com/assets/colab-badge.svg\" alt=\"Open In Colab\"/></a>"
      ]
    },
    {
      "cell_type": "markdown",
      "metadata": {
        "id": "3ShdHEJtNDLZ"
      },
      "source": [
        "## 異なる文字を使う言語を分類する"
      ]
    },
    {
      "cell_type": "markdown",
      "metadata": {
        "id": "uWtE1xXfNIVg"
      },
      "source": [
        "### ライブラリのimport"
      ]
    },
    {
      "cell_type": "code",
      "metadata": {
        "id": "CdayDXvgL6TM"
      },
      "source": [
        "import numpy as np\n",
        "from sklearn.naive_bayes import GaussianNB\n",
        "from sklearn.metrics import accuracy_score"
      ],
      "execution_count": 1,
      "outputs": []
    },
    {
      "cell_type": "markdown",
      "metadata": {
        "id": "XbHKU566NoA1"
      },
      "source": [
        "### 文字コードの値をインデックスにした配列を作り、各コード値（コードポイント）別に文章中の出現頻度をカウントする関数を定義"
      ]
    },
    {
      "cell_type": "code",
      "metadata": {
        "id": "5IBwbU9xNZFr"
      },
      "source": [
        "# Unicode文字列の文字コード値（コードポイント）頻度測定する関数\n",
        "def count_codePoint(str):\n",
        "  # Unicodeのコードポイントをインデックス位置（アドレス）とする配列を用意\n",
        "  counter = np.zeros(65535)\n",
        "  # 引数strの文字数だけループ\n",
        "  for i in range( len(str) ):\n",
        "    # 各文字のコード値を変数に代入\n",
        "    code_point = ord(str[i])\n",
        "    # 万一Unicodeの範囲外なら、無視する\n",
        "    if code_point > 65535:\n",
        "      continue\n",
        "    # if文終わり\n",
        "    # 対応するアドレスの出現回数カウントをインクリメント\n",
        "    counter[code_point] += 1\n",
        "  # for文終わり\n",
        "  # 各要素を文字数で割って正規化（出現率、つまり%に変える）\n",
        "  counter = counter/len(str)\n",
        "  return counter\n",
        "# 関数定義終わり"
      ],
      "execution_count": 2,
      "outputs": []
    },
    {
      "cell_type": "markdown",
      "metadata": {
        "id": "BwcHvYtfPitv"
      },
      "source": [
        "### 学習用データを作成する"
      ]
    },
    {
      "cell_type": "code",
      "metadata": {
        "id": "q7vrnmTvPaL8"
      },
      "source": [
        "# 学習用データの準備\n",
        "ja_str = \"これは日本語の文章です。\"\n",
        "en_str = \"This is English Sentences.\"\n",
        "th_str = \"นี่เป็นประโยคภาษาไทย\"\n",
        "# それぞれの出現頻度割合を３つの要素として説明変数xを作る\n",
        "x_train = [count_codePoint(ja_str), count_codePoint(en_str), count_codePoint(th_str)]\n",
        "# 同じ順番で正解となる目的変数（ラベル）を作る\n",
        "y_train = ['ja', 'en', 'th']"
      ],
      "execution_count": 3,
      "outputs": []
    },
    {
      "cell_type": "markdown",
      "metadata": {
        "id": "0ZbnVucNQvaA"
      },
      "source": [
        "### 言語ごとの文字のパターンを学習する"
      ]
    },
    {
      "cell_type": "code",
      "metadata": {
        "colab": {
          "base_uri": "https://localhost:8080/"
        },
        "id": "WK7l0iE3Qck1",
        "outputId": "ba1346a3-58fa-493c-ce34-dfc401acf36f"
      },
      "source": [
        "# 今回はガウス分布によるナイーブベイズアルゴリズムで学習モデルを作る\n",
        "clf = GaussianNB()\n",
        "clf.fit( x_train, y_train )"
      ],
      "execution_count": 4,
      "outputs": [
        {
          "output_type": "execute_result",
          "data": {
            "text/plain": [
              "GaussianNB(priors=None, var_smoothing=1e-09)"
            ]
          },
          "metadata": {
            "tags": []
          },
          "execution_count": 4
        }
      ]
    },
    {
      "cell_type": "markdown",
      "metadata": {
        "id": "I8208r2YRJ_g"
      },
      "source": [
        "### テスト検証用データを作成する"
      ]
    },
    {
      "cell_type": "code",
      "metadata": {
        "id": "81bR2L2vRHTg"
      },
      "source": [
        "# テスト検証用データ（評価データ）の作成\n",
        "ja_test_str = \"こんにちは\"\n",
        "en_test_str = \"Hello\"\n",
        "th_test_str = \"สวัสดี\"\n",
        "\n",
        "# 説明変数にする\n",
        "x_test = [count_codePoint(ja_test_str), count_codePoint(en_test_str), count_codePoint(th_test_str)]\n",
        "# 同じ順番で正解となる目的変数を作る\n",
        "y_test = ['ja', 'en', 'th']"
      ],
      "execution_count": 5,
      "outputs": []
    },
    {
      "cell_type": "markdown",
      "metadata": {
        "id": "Pz7jtzFXR8wY"
      },
      "source": [
        "### テスト検証（推論）し、評価する"
      ]
    },
    {
      "cell_type": "code",
      "metadata": {
        "colab": {
          "base_uri": "https://localhost:8080/"
        },
        "id": "rDTGtMH5R7FU",
        "outputId": "8f25b785-3723-4075-eb2b-8cbd2915cd1f"
      },
      "source": [
        "# 推論させる\n",
        "y_pred = clf.predict(x_test)\n",
        "print(\"1つ目の文章の言語は\",y_pred[0],\"です\")\n",
        "print(\"2つ目の文章の言語は\",y_pred[1],\"です\")\n",
        "print(\"3つ目の文章の言語は\",y_pred[2],\"です\")\n",
        "# 評価する\n",
        "print(\"正解率 = \", accuracy_score( y_test, y_pred ))"
      ],
      "execution_count": 6,
      "outputs": [
        {
          "output_type": "stream",
          "text": [
            "1つ目の文章の言語は ja です\n",
            "2つ目の文章の言語は en です\n",
            "3つ目の文章の言語は th です\n",
            "正解率 =  1.0\n"
          ],
          "name": "stdout"
        }
      ]
    },
    {
      "cell_type": "markdown",
      "metadata": {
        "id": "5AXVmefXWkzR"
      },
      "source": [
        "## 同じ文字を使用する言語を分類"
      ]
    },
    {
      "cell_type": "markdown",
      "metadata": {
        "id": "mpNuoB-aWxMQ"
      },
      "source": [
        "### サンプルデータとして使うWikipedia記事のテキストデータをダウンロードする"
      ]
    },
    {
      "cell_type": "code",
      "metadata": {
        "id": "p7xSRc6cSkUO",
        "colab": {
          "base_uri": "https://localhost:8080/"
        },
        "outputId": "710cc9ed-0501-45af-8bca-b35b1ee85523"
      },
      "source": [
        "import urllib.request as req\r\n",
        "# 学習データ用記事\r\n",
        "url = \"https://github.com/masatokg/sample_photo/raw/master/train.zip\"\r\n",
        "save_file = \"train.zip\"\r\n",
        "req.urlretrieve( url, save_file )\r\n",
        "# テスト検証用データ記事\r\n",
        "url = \"https://github.com/masatokg/sample_photo/raw/master/test.zip\"\r\n",
        "save_file = \"test.zip\"\r\n",
        "req.urlretrieve( url, save_file )\r\n",
        "\r\n",
        "# unzip(解凍する)\r\n",
        "!unzip -o -q \"./train.zip\"\r\n",
        "print(\"train.zip解凍\")\r\n",
        "!unzip -o -q \"./test.zip\"\r\n",
        "print(\"test.zip解凍\")"
      ],
      "execution_count": 7,
      "outputs": [
        {
          "output_type": "stream",
          "text": [
            "train.zip解凍\n",
            "test.zip解凍\n"
          ],
          "name": "stdout"
        }
      ]
    },
    {
      "cell_type": "markdown",
      "metadata": {
        "id": "OLVZHek7YNVl"
      },
      "source": [
        "### ダウンロードしたテキストファイルのうち、学習用を読込み、学習用の説明変数データと目的変数データを作る"
      ]
    },
    {
      "cell_type": "code",
      "metadata": {
        "colab": {
          "base_uri": "https://localhost:8080/"
        },
        "id": "MbUnXuHgXall",
        "outputId": "77911416-ceef-42d3-897d-26b7dc131cc3"
      },
      "source": [
        "import glob\r\n",
        "\r\n",
        "# 学習データの準備\r\n",
        "index = 0\r\n",
        "x_train = [] # 学習用説明変数\r\n",
        "y_train = [] # 学習用目的変数（ラベル）\r\n",
        "for file in glob.glob( \"./train/*.txt\" ): # train フォルダのtxt拡張子のファイル分ループ\r\n",
        "  # 言語情報のキーワードになるものを文中から取得し、目的変数（ラベル）として設定\r\n",
        "  y_train.append( file[8:10] )\r\n",
        "  print(\"ファイルパスの一部をラベルにする:\", file, \" = \", file[8:10] )\r\n",
        "  # print( y_train )\r\n",
        "\r\n",
        "  # ファイル内の文字列を連結後、コードポイント頻度を測定し、説明変数として設定\r\n",
        "  file_str = \"\"\r\n",
        "  # ファイルを開いて1行ずつ文字列連結する\r\n",
        "  for line in open( file, 'r' ):\r\n",
        "    file_str = ( file_str + line )\r\n",
        "  # for文終わり\r\n",
        "  x_train.append( count_codePoint( file_str ) )\r\n",
        "#for文終わり\r\n",
        "# print( x_train )\r\n"
      ],
      "execution_count": 8,
      "outputs": [
        {
          "output_type": "stream",
          "text": [
            "ファイルパスの一部をラベルにする: ./train/de_cat.txt  =  de\n",
            "ファイルパスの一部をラベルにする: ./train/en_cat.txt  =  en\n",
            "ファイルパスの一部をラベルにする: ./train/es_dog.txt  =  es\n",
            "ファイルパスの一部をラベルにする: ./train/es_elephant.txt  =  es\n",
            "ファイルパスの一部をラベルにする: ./train/de_elephant.txt  =  de\n",
            "ファイルパスの一部をラベルにする: ./train/de_dog.txt  =  de\n",
            "ファイルパスの一部をラベルにする: ./train/en_elephant.txt  =  en\n",
            "ファイルパスの一部をラベルにする: ./train/es_cat.txt  =  es\n",
            "ファイルパスの一部をラベルにする: ./train/en_dog.txt  =  en\n"
          ],
          "name": "stdout"
        }
      ]
    },
    {
      "cell_type": "markdown",
      "metadata": {
        "id": "HYxIQWGYbMsh"
      },
      "source": [
        "### 作成した学習データをガウス分布のナイーブベイズ分類器（GaussianNB）で学習させる"
      ]
    },
    {
      "cell_type": "code",
      "metadata": {
        "colab": {
          "base_uri": "https://localhost:8080/"
        },
        "id": "bN3TFCAKZlNN",
        "outputId": "113334c6-82b8-47aa-e457-3d2449143295"
      },
      "source": [
        "# 学習モデルのインスタンスを生成(ガウシアンNB)\r\n",
        "clf = GaussianNB()\r\n",
        "# 学習させる\r\n",
        "clf.fit( x_train, y_train )"
      ],
      "execution_count": 9,
      "outputs": [
        {
          "output_type": "execute_result",
          "data": {
            "text/plain": [
              "GaussianNB(priors=None, var_smoothing=1e-09)"
            ]
          },
          "metadata": {
            "tags": []
          },
          "execution_count": 9
        }
      ]
    },
    {
      "cell_type": "markdown",
      "metadata": {
        "id": "3y62HJh8busX"
      },
      "source": [
        "### ダウンロードしたテキストファイルのうち、テスト検証用を読込、テスト検証用の説明変数、目的変数データを作る"
      ]
    },
    {
      "cell_type": "code",
      "metadata": {
        "colab": {
          "base_uri": "https://localhost:8080/"
        },
        "id": "zyeMJpx3bpT6",
        "outputId": "614af70f-684b-4ebf-d71d-50dcb05a8161"
      },
      "source": [
        "# 評価（テスト検証）用データの作成\r\n",
        "index = 0\r\n",
        "x_test = [] # 説明変数\r\n",
        "y_test = [] # 目的変数\r\n",
        "# testフォルダ内のtxt拡張子のファイルをループする\r\n",
        "for file in glob.glob( \"./test/*.txt\" ):\r\n",
        "  # 言語情報になるキーワードをファイルパスから抜き出し、目的変数（ラベル）として設定\r\n",
        "  y_test.append( file[7:9] )\r\n",
        "  print(\"ファイルパスの一部をラベルにする:\", file, \" = \", file[7:9])\r\n",
        "\r\n",
        "  # ファイル内の文字列を連結する\r\n",
        "  file_str = \"\"\r\n",
        "  # ファイル内の一行ずつを文字列連結\r\n",
        "  for line in open( file, 'r' ):\r\n",
        "    file_str = file_str + line\r\n",
        "  # for文終わり\r\n",
        "  # ファイル内の文字列のUnicode値（Unicodeポイント）の頻度を測定し、説明変数として設定\r\n",
        "  x_test.append( count_codePoint( file_str ) )\r\n",
        "  # print( file_str ) #1ファイル分を表示\r\n",
        "  # print( x_test[0] )  #1ファイル分を表示\r\n",
        "# for文終わり\r\n"
      ],
      "execution_count": 10,
      "outputs": [
        {
          "output_type": "stream",
          "text": [
            "ファイルパスの一部をラベルにする: ./test/en_lion.txt  =  en\n",
            "ファイルパスの一部をラベルにする: ./test/es_lion.txt  =  es\n",
            "ファイルパスの一部をラベルにする: ./test/de_lion.txt  =  de\n"
          ],
          "name": "stdout"
        }
      ]
    },
    {
      "cell_type": "markdown",
      "metadata": {
        "id": "9XPts3QielZO"
      },
      "source": [
        "### 学習モデルで推論し、評価する"
      ]
    },
    {
      "cell_type": "code",
      "metadata": {
        "colab": {
          "base_uri": "https://localhost:8080/"
        },
        "id": "4V9hXvbecsgY",
        "outputId": "7cacfb47-1b12-4417-ccea-bcca5ff905ab"
      },
      "source": [
        "# 推論する\r\n",
        "y_pred = clf.predict( x_test )\r\n",
        "print( y_pred ) # 推論結果を表示\r\n",
        "# ひょうかする　\r\n",
        "print( \"正解率 = \", accuracy_score( y_test, y_pred ) )"
      ],
      "execution_count": 11,
      "outputs": [
        {
          "output_type": "stream",
          "text": [
            "['en' 'es' 'de']\n",
            "正解率 =  1.0\n"
          ],
          "name": "stdout"
        }
      ]
    },
    {
      "cell_type": "code",
      "metadata": {
        "id": "cIyo0cFefJ9S"
      },
      "source": [
        ""
      ],
      "execution_count": 11,
      "outputs": []
    }
  ]
}